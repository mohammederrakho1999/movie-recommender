{
 "cells": [
  {
   "cell_type": "code",
   "execution_count": 1,
   "metadata": {},
   "outputs": [],
   "source": [
    "import pandas as pd\n",
    "import numpy as np\n",
    "import datetime\n",
    "import matplotlib.pyplot as plt\n",
    "\n",
    "movies = pd.read_csv(\"Data/movies.dat\", delimiter = \"::\", header = None , names = ['Movie ID', 'Movie Title', 'Genre'], engine = \"python\")\n",
    "reviews = pd.read_csv(\"Data/ratings.dat.000\", delimiter = \"::\",header = None, names = ['User ID', 'Movie ID', 'Rating', 'Rating Timestamp'], engine = \"python\")"
   ]
  },
  {
   "cell_type": "code",
   "execution_count": 2,
   "metadata": {},
   "outputs": [
    {
     "name": "stdout",
     "output_type": "stream",
     "text": [
      "   Movie ID                                        Movie Title  \\\n",
      "0         8      Edison Kinetoscopic Record of a Sneeze (1894)   \n",
      "1        10               La sortie des usines LumiÃ¨re (1895)   \n",
      "2        12                      The Arrival of a Train (1896)   \n",
      "3        25  The Oxford and Cambridge University Boat Race ...   \n",
      "4        91                         Le manoir du diable (1896)   \n",
      "\n",
      "               Genre  \n",
      "0  Documentary|Short  \n",
      "1  Documentary|Short  \n",
      "2  Documentary|Short  \n",
      "3                NaN  \n",
      "4       Short|Horror  \n",
      "<class 'pandas.core.frame.DataFrame'>\n",
      "RangeIndex: 34437 entries, 0 to 34436\n",
      "Data columns (total 3 columns):\n",
      "Movie ID       34437 non-null int64\n",
      "Movie Title    34437 non-null object\n",
      "Genre          34159 non-null object\n",
      "dtypes: int64(1), object(2)\n",
      "memory usage: 807.2+ KB\n",
      "None\n",
      "   User ID  Movie ID  Rating  Rating Timestamp\n",
      "0        1    111161    10.0      1.373234e+09\n",
      "1        1    117060     7.0      1.373415e+09\n",
      "2        1    120755     6.0      1.373424e+09\n",
      "3        1    317919     6.0      1.373496e+09\n",
      "4        1    454876    10.0      1.373621e+09\n",
      "<class 'pandas.core.frame.DataFrame'>\n",
      "RangeIndex: 28335 entries, 0 to 28334\n",
      "Data columns (total 4 columns):\n",
      "User ID             28335 non-null int64\n",
      "Movie ID            28335 non-null int64\n",
      "Rating              28334 non-null float64\n",
      "Rating Timestamp    28334 non-null float64\n",
      "dtypes: float64(2), int64(2)\n",
      "memory usage: 885.6 KB\n",
      "None\n"
     ]
    }
   ],
   "source": [
    "print(movies.head())\n",
    "print(movies.info())\n",
    "print(reviews.head())\n",
    "print(reviews.info())"
   ]
  },
  {
   "cell_type": "code",
   "execution_count": 3,
   "metadata": {},
   "outputs": [
    {
     "name": "stdout",
     "output_type": "stream",
     "text": [
      "number of movies 34437, number of reviews 28335\n"
     ]
    }
   ],
   "source": [
    "print(\"number of movies {}, number of reviews {}\".format(movies.shape[0], reviews.shape[0]))"
   ]
  },
  {
   "cell_type": "code",
   "execution_count": 4,
   "metadata": {},
   "outputs": [],
   "source": [
    "def NumberOfGenres():\n",
    "    \"\"\"pulling unique genres\"\"\"\n",
    "    genres = []\n",
    "    for val in movies[\"Genre\"]:\n",
    "        try:\n",
    "            genres.extend(val.split(\"|\"))\n",
    "        except AttributeError:\n",
    "            pass\n",
    "    unique = len(set(genres))\n",
    "    genres = set(genres)\n",
    "    return unique, genres"
   ]
  },
  {
   "cell_type": "code",
   "execution_count": 5,
   "metadata": {},
   "outputs": [
    {
     "name": "stdout",
     "output_type": "stream",
     "text": [
      "28 {'Comedy', 'Crime', 'Documentary', 'Action', 'Film-Noir', 'History', 'News', 'Family', 'Sport', 'Music', 'Mystery', 'Fantasy', 'Adult', 'Talk-Show', 'Sci-Fi', 'Drama', 'Thriller', 'Game-Show', 'Short', 'Reality-TV', 'Horror', 'Adventure', 'Musical', 'Biography', 'Animation', 'Romance', 'Western', 'War'}\n"
     ]
    }
   ],
   "source": [
    "unique, genres = NumberOfGenres()\n",
    "print(unique,genres)"
   ]
  },
  {
   "cell_type": "code",
   "execution_count": 6,
   "metadata": {},
   "outputs": [
    {
     "name": "stdout",
     "output_type": "stream",
     "text": [
      "number of unique user in the dataset :2600\n",
      "number of missing rating :1\n",
      "mean of ratings :7.445224818239571\n",
      "max of ratings :10.0\n"
     ]
    }
   ],
   "source": [
    "#getting the number of unique user in the dataset\n",
    "print(\"number of unique user in the dataset :{}\".format(len(np.unique(reviews[\"User ID\"]))))\n",
    "print(\"number of missing rating :{}\".format(reviews[\"Rating\"].isnull().sum()))\n",
    "print(\"mean of ratings :{}\".format(reviews[\"Rating\"].mean()))\n",
    "print(\"max of ratings :{}\".format(reviews[\"Rating\"].max()))"
   ]
  },
  {
   "cell_type": "code",
   "execution_count": 7,
   "metadata": {},
   "outputs": [],
   "source": [
    "extract_date = lambda x: x[-5:-1] if x[-1] == \")\" else np.nan\n",
    "movies[\"date\"] = movies[\"Movie Title\"].apply(extract_date)"
   ]
  },
  {
   "cell_type": "code",
   "execution_count": 8,
   "metadata": {},
   "outputs": [],
   "source": [
    "years = ['18', '19', '20']\n",
    "for year in years:\n",
    "    movies[str(year) + \"00's\"] = movies[\"date\"].apply(lambda x: 1 if x[:2] == year else 0)"
   ]
  },
  {
   "cell_type": "code",
   "execution_count": 9,
   "metadata": {},
   "outputs": [],
   "source": [
    "def Dummy_var_genre(val):\n",
    "    try:\n",
    "        if val.find(g) != -1:\n",
    "            return 1\n",
    "        else:\n",
    "            return 0\n",
    "    except AttributeError:\n",
    "        return 0\n",
    "    \n",
    "for g in genres:\n",
    "    movies[g] = movies[\"Genre\"].apply(Dummy_var_genre)"
   ]
  },
  {
   "cell_type": "code",
   "execution_count": 10,
   "metadata": {},
   "outputs": [],
   "source": [
    "reviews[\"date_time\"] = reviews[\"Rating Timestamp\"].apply(pd.to_datetime, errors='coerce', utc=True, unit='s')"
   ]
  },
  {
   "cell_type": "code",
   "execution_count": 11,
   "metadata": {},
   "outputs": [
    {
     "name": "stdout",
     "output_type": "stream",
     "text": [
      "   Movie ID                                        Movie Title  \\\n",
      "0         8      Edison Kinetoscopic Record of a Sneeze (1894)   \n",
      "1        10               La sortie des usines LumiÃ¨re (1895)   \n",
      "2        12                      The Arrival of a Train (1896)   \n",
      "3        25  The Oxford and Cambridge University Boat Race ...   \n",
      "4        91                         Le manoir du diable (1896)   \n",
      "\n",
      "               Genre  date  1800's  1900's  2000's  Comedy  Crime  \\\n",
      "0  Documentary|Short  1894       1       0       0       0      0   \n",
      "1  Documentary|Short  1895       1       0       0       0      0   \n",
      "2  Documentary|Short  1896       1       0       0       0      0   \n",
      "3                NaN  1895       1       0       0       0      0   \n",
      "4       Short|Horror  1896       1       0       0       0      0   \n",
      "\n",
      "   Documentary  ...  Short  Reality-TV  Horror  Adventure  Musical  Biography  \\\n",
      "0            1  ...      1           0       0          0        0          0   \n",
      "1            1  ...      1           0       0          0        0          0   \n",
      "2            1  ...      1           0       0          0        0          0   \n",
      "3            0  ...      0           0       0          0        0          0   \n",
      "4            0  ...      1           0       1          0        0          0   \n",
      "\n",
      "   Animation  Romance  Western  War  \n",
      "0          0        0        0    0  \n",
      "1          0        0        0    0  \n",
      "2          0        0        0    0  \n",
      "3          0        0        0    0  \n",
      "4          0        0        0    0  \n",
      "\n",
      "[5 rows x 35 columns]\n",
      "   User ID  Movie ID  Rating  Rating Timestamp                 date_time\n",
      "0        1    111161    10.0      1.373234e+09 2013-07-07 21:56:51+00:00\n",
      "1        1    117060     7.0      1.373415e+09 2013-07-10 00:13:51+00:00\n",
      "2        1    120755     6.0      1.373424e+09 2013-07-10 02:46:00+00:00\n",
      "3        1    317919     6.0      1.373496e+09 2013-07-10 22:36:03+00:00\n",
      "4        1    454876    10.0      1.373621e+09 2013-07-12 09:25:25+00:00\n"
     ]
    }
   ],
   "source": [
    "print(movies.head())\n",
    "print(reviews.head())"
   ]
  },
  {
   "cell_type": "markdown",
   "metadata": {},
   "source": [
    "## ranked-based recommendation"
   ]
  },
  {
   "cell_type": "code",
   "execution_count": 12,
   "metadata": {},
   "outputs": [],
   "source": [
    "def create_ranked_df(movies, reviews):\n",
    "    \"\"\"Take in the movies and reviews dateset and return the ranked movies\"\"\"\n",
    "    movie_ratings = reviews.groupby(\"Movie ID\")[\"Rating\"]\n",
    "    avg_ratings = movie_ratings.mean() \n",
    "    num_ratings = movie_ratings.count()\n",
    "    last_rating = pd.DataFrame(reviews.groupby(\"Movie ID\").max()[\"date_time\"])\n",
    "    last_rating.columns = [\"last_rating\"]\n",
    "    \n",
    "    ratings_count_df = pd.DataFrame({\"avg_ratings\":avg_ratings, 'num_ratings':num_ratings})\n",
    "    ratings_count_df = ratings_count_df.join(last_rating)\n",
    "    \n",
    "    movies_rec = movies.set_index(\"Movie ID\").join(ratings_count_df)\n",
    "    ranked_movies = movies_rec.sort_values([\"avg_ratings\", \"num_ratings\", \"last_rating\"], ascending = False)\n",
    "    ranked_movies = ranked_movies[ranked_movies[\"num_ratings\"] > 4]\n",
    "    return ranked_movies\n",
    "\n",
    "def popular_recommendation(user_id, n_top, ranked_movies):\n",
    "    \"\"\"Take in user_id, number of ranked movies, ranked_movies dataframe and return a listranked movies\"\"\"\n",
    "    top_movies = list(ranked_movies[\"Movie Title\"][:n_top])\n",
    "    return top_movies"
   ]
  },
  {
   "cell_type": "code",
   "execution_count": 13,
   "metadata": {},
   "outputs": [],
   "source": [
    "def popular_recs_filtered(user_id, n_top, ranked_movies,genres,years):\n",
    "    \"\"\"perform filter operations to recommend with knowledge based recommendation\"\"\"\n",
    "    ranked_movies = ranked_movies[ranked_movies[\"date\"].isin(years)]\n",
    "    num_genre_match = ranked_movies[genres].sum(axis = 1)\n",
    "    ranked_movies = ranked_movies.loc[num_genre_match > 0, :]\n",
    "    top_movies = list(ranked_movies[\"Movie Title\"][:n_top])\n",
    "    return top_movies"
   ]
  },
  {
   "cell_type": "code",
   "execution_count": 18,
   "metadata": {},
   "outputs": [
    {
     "name": "stdout",
     "output_type": "stream",
     "text": [
      "['Spider-Man: Far from Home (2019)', 'Avengers: Endgame (2019)', 'El Camino: A Breaking Bad Movie (2019)', 'Shazam! (2019)', 'Rambo: Last Blood (2019)', 'John Wick: Chapter 3 - Parabellum (2019)', 'Zombieland: Double Tap (2019)', 'Alita: Battle Angel (2019)', 'Captain Marvel (2019)', 'Triple Frontier (2019)', 'Ad Astra (2019)', 'Angel Has Fallen (2019)', 'Fast &amp; Furious Presents: Hobbs &amp; Shaw (2019)', 'Glass (2019)', 'PokÃ©mon Detective Pikachu (2019)', 'Crawl (2019)', 'Anna (2019)', 'Murder Mystery (2019)', 'Dark Phoenix (2019)', 'Men in Black: International (2019)']\n"
     ]
    }
   ],
   "source": [
    "ranked_movies = create_ranked_df(movies,reviews)\n",
    "recommendation = popular_recs_filtered(\"1\", 20, ranked_movies,[\"Sci-Fi\",\"Action\"],[\"2019\"])\n",
    "print(recommendation)"
   ]
  },
  {
   "cell_type": "markdown",
   "metadata": {},
   "source": [
    "## collaborative filtering: user-based collaborative filtering"
   ]
  },
  {
   "cell_type": "code",
   "execution_count": 19,
   "metadata": {},
   "outputs": [
    {
     "name": "stdout",
     "output_type": "stream",
     "text": [
      "   User ID  Movie ID  Rating\n",
      "0        1    111161    10.0\n",
      "1        1    117060     7.0\n",
      "2        1    120755     6.0\n",
      "3        1    317919     6.0\n",
      "4        1    454876    10.0\n"
     ]
    }
   ],
   "source": [
    "user_items = reviews[[\"User ID\",\"Movie ID\",\"Rating\"]]\n",
    "print(user_items.head())"
   ]
  },
  {
   "cell_type": "code",
   "execution_count": 20,
   "metadata": {},
   "outputs": [
    {
     "name": "stdout",
     "output_type": "stream",
     "text": [
      "Movie ID  125       417       6414      12349     12844     13427     \\\n",
      "User ID                                                                \n",
      "1              NaN       NaN       NaN       NaN       NaN       NaN   \n",
      "2              NaN       NaN       NaN       NaN       NaN       NaN   \n",
      "3              NaN       NaN       NaN       NaN       NaN       NaN   \n",
      "4              NaN       NaN       NaN       NaN       NaN       NaN   \n",
      "5              NaN       NaN       NaN       NaN       NaN       NaN   \n",
      "\n",
      "Movie ID  13442     15002     15163     15324     ...  9495224   9541602   \\\n",
      "User ID                                           ...                       \n",
      "1              NaN       NaN       NaN       NaN  ...       NaN       NaN   \n",
      "2              NaN       NaN       NaN       NaN  ...       NaN       NaN   \n",
      "3              NaN       NaN       NaN       NaN  ...       NaN       NaN   \n",
      "4              NaN       NaN       NaN       NaN  ...       NaN       NaN   \n",
      "5              NaN       NaN       NaN       NaN  ...       NaN       NaN   \n",
      "\n",
      "Movie ID  9573980   9759978   10151260  10161238  10208198  10516984  \\\n",
      "User ID                                                                \n",
      "1              NaN       NaN       NaN       NaN       NaN       NaN   \n",
      "2              NaN       NaN       NaN       NaN       NaN       NaN   \n",
      "3              NaN       NaN       NaN       NaN       NaN       NaN   \n",
      "4              NaN       NaN       NaN       NaN       NaN       NaN   \n",
      "5              NaN       NaN       NaN       NaN       NaN       NaN   \n",
      "\n",
      "Movie ID  10648440  10847306  \n",
      "User ID                       \n",
      "1              NaN       NaN  \n",
      "2              NaN       NaN  \n",
      "3              NaN       NaN  \n",
      "4              NaN       NaN  \n",
      "5              NaN       NaN  \n",
      "\n",
      "[5 rows x 6402 columns]\n"
     ]
    }
   ],
   "source": [
    "user_by_movie = user_items.groupby([\"User ID\",\"Movie ID\"])[\"Rating\"].max().unstack()\n",
    "print(user_by_movie.head())"
   ]
  },
  {
   "cell_type": "code",
   "execution_count": 21,
   "metadata": {},
   "outputs": [],
   "source": [
    "def movies_watched(user_id):\n",
    "    \"\"\"Take in any user id and return an array of rated movies by the user\"\"\"\n",
    "    movies = user_by_movie.loc[user_id][user_by_movie.loc[user_id].isnull() == False].index.values\n",
    "    return movies\n",
    "\n",
    "\n",
    "def create_user_movie_dict():\n",
    "    \"\"\"Create a dict of user and the corresponding movies viewed\"\"\"\n",
    "    movie_seen = dict()\n",
    "    n_user = user_by_movie.shape[0]\n",
    "    \n",
    "    for user in range(1,n_user+1):\n",
    "        movie_seen[user] = movies_watched(user)\n",
    "    return movie_seen\n",
    "\n",
    "def create_movies_to_analyze(movie_seen, bound):\n",
    "    \"\"\"Take in movie_seen dict and a bound and only keeps number of movies higher than the bound\"\"\"\n",
    "    movie_to_analyze = dict()\n",
    "    \n",
    "    for user_id, movies in movie_seen.items():\n",
    "        if len(movies) > bound:\n",
    "            movie_to_analyze[user_id] = movies\n",
    "    return movie_to_analyze"
   ]
  },
  {
   "cell_type": "code",
   "execution_count": null,
   "metadata": {},
   "outputs": [],
   "source": [
    "def euclidien_distance():\n",
    "    "
   ]
  },
  {
   "cell_type": "code",
   "execution_count": 22,
   "metadata": {},
   "outputs": [],
   "source": [
    "movie_seen = create_user_movie_dict()\n",
    "movie_to_analyze = create_movies_to_analyze(movie_seen,2)"
   ]
  }
 ],
 "metadata": {
  "kernelspec": {
   "display_name": "Python 3",
   "language": "python",
   "name": "python3"
  },
  "language_info": {
   "codemirror_mode": {
    "name": "ipython",
    "version": 3
   },
   "file_extension": ".py",
   "mimetype": "text/x-python",
   "name": "python",
   "nbconvert_exporter": "python",
   "pygments_lexer": "ipython3",
   "version": "3.7.4"
  }
 },
 "nbformat": 4,
 "nbformat_minor": 2
}
