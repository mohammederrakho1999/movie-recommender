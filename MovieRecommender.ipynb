{
 "cells": [
  {
   "cell_type": "code",
   "execution_count": 5,
   "metadata": {},
   "outputs": [],
   "source": [
    "import pandas as pd\n",
    "import numpy as np\n",
    "import matplotlib.pyplot as plt\n",
    "\n",
    "movies = pd.read_csv(\"movies.dat\", delimiter = \"::\", header = None , names = ['Movie ID', 'Movie Title', 'Genre'], engine = \"python\")\n",
    "reviews = pd.read_csv(\"ratings.dat\", delimiter = \"::\",header = None, names = ['User ID', 'Movie ID', 'Rating', 'Rating Timestamp'], engine = \"python\")"
   ]
  },
  {
   "cell_type": "code",
   "execution_count": 17,
   "metadata": {},
   "outputs": [
    {
     "name": "stdout",
     "output_type": "stream",
     "text": [
      "   Movie ID                                        Movie Title  \\\n",
      "0         8      Edison Kinetoscopic Record of a Sneeze (1894)   \n",
      "1        10               La sortie des usines LumiÃ¨re (1895)   \n",
      "2        12                      The Arrival of a Train (1896)   \n",
      "3        25  The Oxford and Cambridge University Boat Race ...   \n",
      "4        91                         Le manoir du diable (1896)   \n",
      "\n",
      "               Genre  \n",
      "0  Documentary|Short  \n",
      "1  Documentary|Short  \n",
      "2  Documentary|Short  \n",
      "3                NaN  \n",
      "4       Short|Horror  \n",
      "<class 'pandas.core.frame.DataFrame'>\n",
      "RangeIndex: 34437 entries, 0 to 34436\n",
      "Data columns (total 3 columns):\n",
      "Movie ID       34437 non-null int64\n",
      "Movie Title    34437 non-null object\n",
      "Genre          34159 non-null object\n",
      "dtypes: int64(1), object(2)\n",
      "memory usage: 807.2+ KB\n",
      "None\n",
      "   User ID  Movie ID  Rating  Rating Timestamp\n",
      "0        1    111161      10        1373234211\n",
      "1        1    117060       7        1373415231\n",
      "2        1    120755       6        1373424360\n",
      "3        1    317919       6        1373495763\n",
      "4        1    454876      10        1373621125\n"
     ]
    }
   ],
   "source": [
    "print(movies.head())\n",
    "print(movies.info())\n",
    "print(reviews.head())"
   ]
  },
  {
   "cell_type": "code",
   "execution_count": 15,
   "metadata": {},
   "outputs": [
    {
     "name": "stdout",
     "output_type": "stream",
     "text": [
      "number of movies 34437, number of reviews 814505\n"
     ]
    }
   ],
   "source": [
    "print(\"number of movies {}, number of reviews {}\".format(movies.shape[0], reviews.shape[0]))"
   ]
  },
  {
   "cell_type": "code",
   "execution_count": 20,
   "metadata": {},
   "outputs": [],
   "source": [
    "def NumberOfGenres():\n",
    "    \"\"\"pulling unique genres\"\"\"\n",
    "    genres = []\n",
    "    for val in movies[\"Genre\"]:\n",
    "        try:\n",
    "            genres.extend(val.split(\"|\"))\n",
    "        except AttributeError:\n",
    "            pass\n",
    "    unique = len(set(genres))\n",
    "    return number"
   ]
  },
  {
   "cell_type": "code",
   "execution_count": 23,
   "metadata": {},
   "outputs": [
    {
     "name": "stdout",
     "output_type": "stream",
     "text": [
      "28\n"
     ]
    }
   ],
   "source": [
    "unique = NumberOfGenres()\n",
    "print(unique)"
   ]
  },
  {
   "cell_type": "code",
   "execution_count": 36,
   "metadata": {},
   "outputs": [
    {
     "name": "stdout",
     "output_type": "stream",
     "text": [
      "number of unique user in the dataset :60283\n",
      "number of missing rating :0\n",
      "mean of ratings :7.304460991645232\n",
      "max of ratings :10\n"
     ]
    }
   ],
   "source": [
    "#getting the number of unique user in the dataset\n",
    "print(\"number of unique user in the dataset :{}\".format(len(np.unique(reviews[\"User ID\"]))))\n",
    "print(\"number of missing rating :{}\".format(reviews[\"Rating\"].isnull().sum()))\n",
    "print(\"mean of ratings :{}\".format(reviews[\"Rating\"].mean()))\n",
    "print(\"max of ratings :{}\".format(reviews[\"Rating\"].max()))"
   ]
  }
 ],
 "metadata": {
  "kernelspec": {
   "display_name": "Python 3",
   "language": "python",
   "name": "python3"
  },
  "language_info": {
   "codemirror_mode": {
    "name": "ipython",
    "version": 3
   },
   "file_extension": ".py",
   "mimetype": "text/x-python",
   "name": "python",
   "nbconvert_exporter": "python",
   "pygments_lexer": "ipython3",
   "version": "3.7.4"
  }
 },
 "nbformat": 4,
 "nbformat_minor": 2
}
