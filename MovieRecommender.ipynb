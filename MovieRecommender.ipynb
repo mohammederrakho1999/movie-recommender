{
 "cells": [
  {
   "cell_type": "code",
   "execution_count": 2,
   "metadata": {},
   "outputs": [],
   "source": [
    "import pandas as pd\n",
    "import numpy as np\n",
    "import datetime\n",
    "import matplotlib.pyplot as plt\n",
    "\n",
    "movies = pd.read_csv(\"Data/movies.dat\", delimiter = \"::\", header = None , names = ['Movie ID', 'Movie Title', 'Genre'], engine = \"python\")\n",
    "reviews = pd.read_csv(\"Data/ratings.dat\", delimiter = \"::\",header = None, names = ['User ID', 'Movie ID', 'Rating', 'Rating Timestamp'], engine = \"python\")"
   ]
  },
  {
   "cell_type": "code",
   "execution_count": 3,
   "metadata": {},
   "outputs": [
    {
     "name": "stdout",
     "output_type": "stream",
     "text": [
      "   Movie ID                                        Movie Title  \\\n",
      "0         8      Edison Kinetoscopic Record of a Sneeze (1894)   \n",
      "1        10               La sortie des usines LumiÃ¨re (1895)   \n",
      "2        12                      The Arrival of a Train (1896)   \n",
      "3        25  The Oxford and Cambridge University Boat Race ...   \n",
      "4        91                         Le manoir du diable (1896)   \n",
      "\n",
      "               Genre  \n",
      "0  Documentary|Short  \n",
      "1  Documentary|Short  \n",
      "2  Documentary|Short  \n",
      "3                NaN  \n",
      "4       Short|Horror  \n",
      "<class 'pandas.core.frame.DataFrame'>\n",
      "RangeIndex: 34437 entries, 0 to 34436\n",
      "Data columns (total 3 columns):\n",
      "Movie ID       34437 non-null int64\n",
      "Movie Title    34437 non-null object\n",
      "Genre          34159 non-null object\n",
      "dtypes: int64(1), object(2)\n",
      "memory usage: 807.2+ KB\n",
      "None\n",
      "   User ID  Movie ID  Rating  Rating Timestamp\n",
      "0        1    111161      10        1373234211\n",
      "1        1    117060       7        1373415231\n",
      "2        1    120755       6        1373424360\n",
      "3        1    317919       6        1373495763\n",
      "4        1    454876      10        1373621125\n",
      "<class 'pandas.core.frame.DataFrame'>\n",
      "RangeIndex: 814505 entries, 0 to 814504\n",
      "Data columns (total 4 columns):\n",
      "User ID             814505 non-null int64\n",
      "Movie ID            814505 non-null int64\n",
      "Rating              814505 non-null int64\n",
      "Rating Timestamp    814505 non-null int64\n",
      "dtypes: int64(4)\n",
      "memory usage: 24.9 MB\n",
      "None\n"
     ]
    }
   ],
   "source": [
    "print(movies.head())\n",
    "print(movies.info())\n",
    "print(reviews.head())\n",
    "print(reviews.info())"
   ]
  },
  {
   "cell_type": "code",
   "execution_count": 15,
   "metadata": {},
   "outputs": [
    {
     "name": "stdout",
     "output_type": "stream",
     "text": [
      "number of movies 34437, number of reviews 814505\n"
     ]
    }
   ],
   "source": [
    "print(\"number of movies {}, number of reviews {}\".format(movies.shape[0], reviews.shape[0]))"
   ]
  },
  {
   "cell_type": "code",
   "execution_count": 4,
   "metadata": {},
   "outputs": [],
   "source": [
    "def NumberOfGenres():\n",
    "    \"\"\"pulling unique genres\"\"\"\n",
    "    genres = []\n",
    "    for val in movies[\"Genre\"]:\n",
    "        try:\n",
    "            genres.extend(val.split(\"|\"))\n",
    "        except AttributeError:\n",
    "            pass\n",
    "    unique = len(set(genres))\n",
    "    genres = set(genres)\n",
    "    return unique, genres"
   ]
  },
  {
   "cell_type": "code",
   "execution_count": 5,
   "metadata": {},
   "outputs": [
    {
     "name": "stdout",
     "output_type": "stream",
     "text": [
      "28 {'Crime', 'Family', 'Drama', 'History', 'Mystery', 'Horror', 'Film-Noir', 'Action', 'Fantasy', 'Adult', 'Documentary', 'Musical', 'Animation', 'Sport', 'Western', 'Comedy', 'Romance', 'Reality-TV', 'War', 'Thriller', 'Sci-Fi', 'Adventure', 'Short', 'Biography', 'News', 'Game-Show', 'Talk-Show', 'Music'}\n"
     ]
    }
   ],
   "source": [
    "unique, genres = NumberOfGenres()\n",
    "print(unique,genres)"
   ]
  },
  {
   "cell_type": "code",
   "execution_count": 6,
   "metadata": {},
   "outputs": [
    {
     "name": "stdout",
     "output_type": "stream",
     "text": [
      "number of unique user in the dataset :60283\n",
      "number of missing rating :0\n",
      "mean of ratings :7.304460991645232\n",
      "max of ratings :10\n"
     ]
    }
   ],
   "source": [
    "#getting the number of unique user in the dataset\n",
    "print(\"number of unique user in the dataset :{}\".format(len(np.unique(reviews[\"User ID\"]))))\n",
    "print(\"number of missing rating :{}\".format(reviews[\"Rating\"].isnull().sum()))\n",
    "print(\"mean of ratings :{}\".format(reviews[\"Rating\"].mean()))\n",
    "print(\"max of ratings :{}\".format(reviews[\"Rating\"].max()))"
   ]
  },
  {
   "cell_type": "code",
   "execution_count": 7,
   "metadata": {},
   "outputs": [],
   "source": [
    "extract_date = lambda x: x[-5:-1] if x[-1] == \")\" else np.nan\n",
    "movies[\"date\"] = movies[\"Movie Title\"].apply(extract_date)"
   ]
  },
  {
   "cell_type": "code",
   "execution_count": 45,
   "metadata": {},
   "outputs": [],
   "source": [
    "years = ['18', '19', '20']\n",
    "for year in years:\n",
    "    movies[str(year) + \"00's\"] = movies[\"date\"].apply(lambda x: 1 if x[:2] == year else 0)"
   ]
  },
  {
   "cell_type": "code",
   "execution_count": 9,
   "metadata": {},
   "outputs": [],
   "source": [
    "def Dummy_var_genre(val):\n",
    "    try:\n",
    "        if val.find(g) != -1:\n",
    "            return 1\n",
    "        else:\n",
    "            return 0\n",
    "    except AttributeError:\n",
    "        return 0\n",
    "    \n",
    "for g in genres:\n",
    "    movies[g] = movies[\"Genre\"].apply(Dummy_var_genre)"
   ]
  },
  {
   "cell_type": "code",
   "execution_count": null,
   "metadata": {},
   "outputs": [],
   "source": [
    "convert_timestamp = lambda x: datetime.datetime.fromtimestamp(x).strftime(\"%Y-%m-%d %H:%M:%S\")\n",
    "reviews[\"date_time\"] = reviews[\"Rating Timestamp\"].apply(convert_timestamp)"
   ]
  },
  {
   "cell_type": "code",
   "execution_count": 12,
   "metadata": {},
   "outputs": [
    {
     "name": "stdout",
     "output_type": "stream",
     "text": [
      "   Movie ID                                        Movie Title  \\\n",
      "0         8      Edison Kinetoscopic Record of a Sneeze (1894)   \n",
      "1        10               La sortie des usines LumiÃ¨re (1895)   \n",
      "2        12                      The Arrival of a Train (1896)   \n",
      "3        25  The Oxford and Cambridge University Boat Race ...   \n",
      "4        91                         Le manoir du diable (1896)   \n",
      "\n",
      "               Genre  date  Crime  Family  Drama  History  Mystery  Horror  \\\n",
      "0  Documentary|Short  1894      0       0      0        0        0       0   \n",
      "1  Documentary|Short  1895      0       0      0        0        0       0   \n",
      "2  Documentary|Short  1896      0       0      0        0        0       0   \n",
      "3                NaN  1895      0       0      0        0        0       0   \n",
      "4       Short|Horror  1896      0       0      0        0        0       1   \n",
      "\n",
      "   ...  War  Thriller  Sci-Fi  Adventure  Short  Biography  News  Game-Show  \\\n",
      "0  ...    0         0       0          0      1          0     0          0   \n",
      "1  ...    0         0       0          0      1          0     0          0   \n",
      "2  ...    0         0       0          0      1          0     0          0   \n",
      "3  ...    0         0       0          0      0          0     0          0   \n",
      "4  ...    0         0       0          0      1          0     0          0   \n",
      "\n",
      "   Talk-Show  Music  \n",
      "0          0      0  \n",
      "1          0      0  \n",
      "2          0      0  \n",
      "3          0      0  \n",
      "4          0      0  \n",
      "\n",
      "[5 rows x 32 columns]\n",
      "   User ID  Movie ID  Rating  Rating Timestamp            date_time\n",
      "0        1    111161      10        1373234211  2013-07-07 23:56:51\n",
      "1        1    117060       7        1373415231  2013-07-10 02:13:51\n",
      "2        1    120755       6        1373424360  2013-07-10 04:46:00\n",
      "3        1    317919       6        1373495763  2013-07-11 00:36:03\n",
      "4        1    454876      10        1373621125  2013-07-12 11:25:25\n"
     ]
    }
   ],
   "source": [
    "print(movies.head())\n",
    "print(reviews.head())"
   ]
  },
  {
   "cell_type": "markdown",
   "metadata": {},
   "source": [
    "## ranked-based recommendation"
   ]
  },
  {
   "cell_type": "code",
   "execution_count": 42,
   "metadata": {},
   "outputs": [],
   "source": [
    "def create_ranked_df(movies, reviews):\n",
    "    \"\"\"Take in the movies and reviews dateset and return the ranked movies\"\"\"\n",
    "    movie_ratings = reviews.groupby(\"Movie ID\")[\"Rating\"]\n",
    "    avg_ratings = movie_ratings.mean()\n",
    "    num_ratings = movie_ratings.count()\n",
    "    last_rating = pd.DataFrame(reviews.groupby(\"Movie ID\").max()[\"date_time\"])\n",
    "    last_rating.columns = [\"last_rating\"]\n",
    "    \n",
    "    ratings_count_df = pd.DataFrame({\"avg_ratings\":avg_ratings, 'num_ratings':num_ratings})\n",
    "    ratings_count_df = ratings_count_df.join(last_rating)\n",
    "    \n",
    "    movies_rec = movies.set_index(\"Movie ID\").join(ratings_count_df)\n",
    "    ranked_movies = movies_rec.sort_values([\"avg_ratings\", \"num_ratings\", \"last_rating\"], ascending = False)\n",
    "    ranked_movies = ranked_movies[ranked_movies[\"num_ratings\"] > 4]\n",
    "    return ranked_movies\n",
    "\n",
    "def popular_recommendation(user_id, n_top, ranked_movies):\n",
    "    \"\"\"Take in user_id, number of ranked movies, ranked_movies dataframe and return a listranked movies\"\"\"\n",
    "    top_movies = list(ranked_movies[\"Movie Title\"][:n_top])\n",
    "    return top_movies"
   ]
  },
  {
   "cell_type": "code",
   "execution_count": 55,
   "metadata": {},
   "outputs": [],
   "source": [
    "def popular_recs_filtered(user_id, n_top, ranked_movies, genres, years):\n",
    "    \"\"\"perform filter operations to recommend with knowledge based recommendation\"\"\"\n",
    "    ranked_movies = ranked_movies[ranked_movies[\"date\"].isin(years)]\n",
    "    num_genre_match = ranked_movies[genres].sum(axis = 1)\n",
    "    ranked_movies = ranked_movies.loc[num_genre_match > 0, :]\n",
    "    top_movies = list(ranked_movies[\"Movie Title\"][:n_top])\n",
    "    return top_movies"
   ]
  },
  {
   "cell_type": "code",
   "execution_count": 58,
   "metadata": {},
   "outputs": [
    {
     "name": "stdout",
     "output_type": "stream",
     "text": [
      "['MSG 2 the Messenger (2015)', 'Make Like a Dog (2015)', 'I Believe in Miracles (2015)', 'Bajrangi Bhaijaan (2015)', 'War Room (2015)', 'Visaaranai (2015)', 'Drishyam (2015)', 'The True Cost (2015)', 'Be Here Now (2015)', 'Lu bian ye can (2015)', 'Birigyaru (2015)', 'The Resurrection of Jake The Snake Roberts (2015)', 'Inside Out (2015)', 'Room (2015)', 'Sado (2015)', 'World of Tomorrow (2015)', 'Salam Neighbor (2015)', 'Racing Extinction (2015)', 'Talvar (2015)', 'A Girl Like Her (2015)']\n"
     ]
    }
   ],
   "source": [
    "recommendation = popular_recs_filtered(\"1\",20,ranked_movies,[\"History\",\"Drama\"],[\"2015\"])\n",
    "print(recommendation)"
   ]
  }
 ],
 "metadata": {
  "kernelspec": {
   "display_name": "Python 3",
   "language": "python",
   "name": "python3"
  },
  "language_info": {
   "codemirror_mode": {
    "name": "ipython",
    "version": 3
   },
   "file_extension": ".py",
   "mimetype": "text/x-python",
   "name": "python",
   "nbconvert_exporter": "python",
   "pygments_lexer": "ipython3",
   "version": "3.7.4"
  }
 },
 "nbformat": 4,
 "nbformat_minor": 2
}
