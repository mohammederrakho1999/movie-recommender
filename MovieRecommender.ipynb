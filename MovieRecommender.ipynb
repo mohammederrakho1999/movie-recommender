{
 "cells": [
  {
   "cell_type": "code",
   "execution_count": 31,
   "metadata": {},
   "outputs": [],
   "source": [
    "import pandas as pd\n",
    "import numpy as np\n",
    "import datetime\n",
    "import matplotlib.pyplot as plt\n",
    "\n",
    "movies = pd.read_csv(\"Data/movies.dat\", delimiter = \"::\", header = None , names = ['Movie ID', 'Movie Title', 'Genre'], engine = \"python\")\n",
    "reviews = pd.read_csv(\"Data/ratings.dat\", delimiter = \"::\",header = None, names = ['User ID', 'Movie ID', 'Rating', 'Rating Timestamp'], engine = \"python\")"
   ]
  },
  {
   "cell_type": "code",
   "execution_count": 32,
   "metadata": {},
   "outputs": [
    {
     "name": "stdout",
     "output_type": "stream",
     "text": [
      "   Movie ID                                        Movie Title  \\\n",
      "0         8      Edison Kinetoscopic Record of a Sneeze (1894)   \n",
      "1        10               La sortie des usines LumiÃ¨re (1895)   \n",
      "2        12                      The Arrival of a Train (1896)   \n",
      "3        25  The Oxford and Cambridge University Boat Race ...   \n",
      "4        91                         Le manoir du diable (1896)   \n",
      "\n",
      "               Genre  \n",
      "0  Documentary|Short  \n",
      "1  Documentary|Short  \n",
      "2  Documentary|Short  \n",
      "3                NaN  \n",
      "4       Short|Horror  \n",
      "<class 'pandas.core.frame.DataFrame'>\n",
      "RangeIndex: 34437 entries, 0 to 34436\n",
      "Data columns (total 3 columns):\n",
      "Movie ID       34437 non-null int64\n",
      "Movie Title    34437 non-null object\n",
      "Genre          34159 non-null object\n",
      "dtypes: int64(1), object(2)\n",
      "memory usage: 807.2+ KB\n",
      "None\n",
      "   User ID  Movie ID  Rating  Rating Timestamp\n",
      "0        1    111161      10        1373234211\n",
      "1        1    117060       7        1373415231\n",
      "2        1    120755       6        1373424360\n",
      "3        1    317919       6        1373495763\n",
      "4        1    454876      10        1373621125\n",
      "<class 'pandas.core.frame.DataFrame'>\n",
      "RangeIndex: 814505 entries, 0 to 814504\n",
      "Data columns (total 4 columns):\n",
      "User ID             814505 non-null int64\n",
      "Movie ID            814505 non-null int64\n",
      "Rating              814505 non-null int64\n",
      "Rating Timestamp    814505 non-null int64\n",
      "dtypes: int64(4)\n",
      "memory usage: 24.9 MB\n",
      "None\n"
     ]
    }
   ],
   "source": [
    "print(movies.head())\n",
    "print(movies.info())\n",
    "print(reviews.head())\n",
    "print(reviews.info())"
   ]
  },
  {
   "cell_type": "code",
   "execution_count": 15,
   "metadata": {},
   "outputs": [
    {
     "name": "stdout",
     "output_type": "stream",
     "text": [
      "number of movies 34437, number of reviews 814505\n"
     ]
    }
   ],
   "source": [
    "print(\"number of movies {}, number of reviews {}\".format(movies.shape[0], reviews.shape[0]))"
   ]
  },
  {
   "cell_type": "code",
   "execution_count": 23,
   "metadata": {},
   "outputs": [],
   "source": [
    "def NumberOfGenres():\n",
    "    \"\"\"pulling unique genres\"\"\"\n",
    "    genres = []\n",
    "    for val in movies[\"Genre\"]:\n",
    "        try:\n",
    "            genres.extend(val.split(\"|\"))\n",
    "        except AttributeError:\n",
    "            pass\n",
    "    unique = len(set(genres))\n",
    "    genres = set(genres)\n",
    "    return unique, genres"
   ]
  },
  {
   "cell_type": "code",
   "execution_count": 24,
   "metadata": {},
   "outputs": [
    {
     "name": "stdout",
     "output_type": "stream",
     "text": [
      "28 {'Sci-Fi', 'History', 'Mystery', 'Action', 'War', 'Talk-Show', 'Western', 'Biography', 'Fantasy', 'Adult', 'Film-Noir', 'Game-Show', 'Animation', 'Crime', 'Musical', 'Romance', 'Short', 'Adventure', 'Family', 'Drama', 'Comedy', 'Documentary', 'Sport', 'News', 'Horror', 'Reality-TV', 'Thriller', 'Music'}\n"
     ]
    }
   ],
   "source": [
    "unique, genres = NumberOfGenres()\n",
    "print(unique,genres)"
   ]
  },
  {
   "cell_type": "code",
   "execution_count": 36,
   "metadata": {},
   "outputs": [
    {
     "name": "stdout",
     "output_type": "stream",
     "text": [
      "number of unique user in the dataset :60283\n",
      "number of missing rating :0\n",
      "mean of ratings :7.304460991645232\n",
      "max of ratings :10\n"
     ]
    }
   ],
   "source": [
    "#getting the number of unique user in the dataset\n",
    "print(\"number of unique user in the dataset :{}\".format(len(np.unique(reviews[\"User ID\"]))))\n",
    "print(\"number of missing rating :{}\".format(reviews[\"Rating\"].isnull().sum()))\n",
    "print(\"mean of ratings :{}\".format(reviews[\"Rating\"].mean()))\n",
    "print(\"max of ratings :{}\".format(reviews[\"Rating\"].max()))"
   ]
  },
  {
   "cell_type": "code",
   "execution_count": 10,
   "metadata": {},
   "outputs": [],
   "source": [
    "extract_date = lambda x: x[-5:-1] if x[-1] == \")\" else np.nan\n",
    "movies[\"date\"] = movies[\"Movie Title\"].apply(extract_date)"
   ]
  },
  {
   "cell_type": "code",
   "execution_count": 17,
   "metadata": {},
   "outputs": [],
   "source": [
    "def Dummy_var_year():\n",
    "    years = ['18', '19', '20']\n",
    "    for year in years:\n",
    "        movies[str(year) + \"00's\"] = movies[\"date\"].apply(lambda x: 1 if x[:2] == year else 0)"
   ]
  },
  {
   "cell_type": "code",
   "execution_count": 28,
   "metadata": {},
   "outputs": [],
   "source": [
    "def Dummy_var_genre(val):\n",
    "    try:\n",
    "        if val.find(g) != -1:\n",
    "            return 1\n",
    "        else:\n",
    "            return 0\n",
    "    except AttributeError:\n",
    "        return 0\n",
    "    \n",
    "for g in genres:\n",
    "    movies[g] = movies[\"Genre\"].apply(Dummy_var_genre)"
   ]
  },
  {
   "cell_type": "code",
   "execution_count": 35,
   "metadata": {},
   "outputs": [],
   "source": [
    "convert_timestamp = lambda x: datetime.datetime.fromtimestamp(x).strftime(\"%Y-%m-%d %H:%M:%S\")\n",
    "reviews[\"date_time\"] = reviews[\"Rating Timestamp\"].apply(convert_timestamp)"
   ]
  },
  {
   "cell_type": "code",
   "execution_count": 36,
   "metadata": {},
   "outputs": [
    {
     "data": {
      "text/html": [
       "<div>\n",
       "<style scoped>\n",
       "    .dataframe tbody tr th:only-of-type {\n",
       "        vertical-align: middle;\n",
       "    }\n",
       "\n",
       "    .dataframe tbody tr th {\n",
       "        vertical-align: top;\n",
       "    }\n",
       "\n",
       "    .dataframe thead th {\n",
       "        text-align: right;\n",
       "    }\n",
       "</style>\n",
       "<table border=\"1\" class=\"dataframe\">\n",
       "  <thead>\n",
       "    <tr style=\"text-align: right;\">\n",
       "      <th></th>\n",
       "      <th>User ID</th>\n",
       "      <th>Movie ID</th>\n",
       "      <th>Rating</th>\n",
       "      <th>Rating Timestamp</th>\n",
       "      <th>date_time</th>\n",
       "    </tr>\n",
       "  </thead>\n",
       "  <tbody>\n",
       "    <tr>\n",
       "      <td>0</td>\n",
       "      <td>1</td>\n",
       "      <td>111161</td>\n",
       "      <td>10</td>\n",
       "      <td>1373234211</td>\n",
       "      <td>2013-07-07 23:56:51</td>\n",
       "    </tr>\n",
       "    <tr>\n",
       "      <td>1</td>\n",
       "      <td>1</td>\n",
       "      <td>117060</td>\n",
       "      <td>7</td>\n",
       "      <td>1373415231</td>\n",
       "      <td>2013-07-10 02:13:51</td>\n",
       "    </tr>\n",
       "    <tr>\n",
       "      <td>2</td>\n",
       "      <td>1</td>\n",
       "      <td>120755</td>\n",
       "      <td>6</td>\n",
       "      <td>1373424360</td>\n",
       "      <td>2013-07-10 04:46:00</td>\n",
       "    </tr>\n",
       "    <tr>\n",
       "      <td>3</td>\n",
       "      <td>1</td>\n",
       "      <td>317919</td>\n",
       "      <td>6</td>\n",
       "      <td>1373495763</td>\n",
       "      <td>2013-07-11 00:36:03</td>\n",
       "    </tr>\n",
       "    <tr>\n",
       "      <td>4</td>\n",
       "      <td>1</td>\n",
       "      <td>454876</td>\n",
       "      <td>10</td>\n",
       "      <td>1373621125</td>\n",
       "      <td>2013-07-12 11:25:25</td>\n",
       "    </tr>\n",
       "  </tbody>\n",
       "</table>\n",
       "</div>"
      ],
      "text/plain": [
       "   User ID  Movie ID  Rating  Rating Timestamp            date_time\n",
       "0        1    111161      10        1373234211  2013-07-07 23:56:51\n",
       "1        1    117060       7        1373415231  2013-07-10 02:13:51\n",
       "2        1    120755       6        1373424360  2013-07-10 04:46:00\n",
       "3        1    317919       6        1373495763  2013-07-11 00:36:03\n",
       "4        1    454876      10        1373621125  2013-07-12 11:25:25"
      ]
     },
     "execution_count": 36,
     "metadata": {},
     "output_type": "execute_result"
    }
   ],
   "source": []
  }
 ],
 "metadata": {
  "kernelspec": {
   "display_name": "Python 3",
   "language": "python",
   "name": "python3"
  },
  "language_info": {
   "codemirror_mode": {
    "name": "ipython",
    "version": 3
   },
   "file_extension": ".py",
   "mimetype": "text/x-python",
   "name": "python",
   "nbconvert_exporter": "python",
   "pygments_lexer": "ipython3",
   "version": "3.7.4"
  }
 },
 "nbformat": 4,
 "nbformat_minor": 2
}
